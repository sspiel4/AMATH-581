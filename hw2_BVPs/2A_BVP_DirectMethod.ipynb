{
 "cells": [
  {
   "cell_type": "code",
   "execution_count": 1,
   "metadata": {},
   "outputs": [],
   "source": [
    "from __future__ import division\n",
    "import numpy as np\n",
    "import scipy\n",
    "from scipy import integrate\n",
    "from numpy import linalg as LA\n",
    "\n",
    "import pdb\n",
    "import matplotlib.pyplot as plt"
   ]
  },
  {
   "cell_type": "code",
   "execution_count": 2,
   "metadata": {},
   "outputs": [],
   "source": [
    "#import custom functions\n",
    "#harmonic is assignment function\n",
    "#sol_frame indexes array same as matlab\n",
    "\n",
    "from harmonic import *\n",
    "from sol_frame import *"
   ]
  },
  {
   "cell_type": "code",
   "execution_count": 3,
   "metadata": {},
   "outputs": [],
   "source": [
    "#set up frame\n",
    "\n",
    "#BC values for x\n",
    "x0=-4\n",
    "xN=4\n",
    "\n",
    "delta_x = 0.1\n",
    "x_frame = sol_frame(x0, xN, delta_x)\n",
    "K = 1"
   ]
  },
  {
   "cell_type": "code",
   "execution_count": 4,
   "metadata": {},
   "outputs": [],
   "source": [
    "#set up matrix A\n",
    "a_dim = (len(x_frame), len(x_frame))\n",
    "A = np.zeros(a_dim)"
   ]
  },
  {
   "cell_type": "code",
   "execution_count": 5,
   "metadata": {},
   "outputs": [],
   "source": [
    "#add middle terms to matrix for central difference\n",
    "for i in range(1, len(A)-1):\n",
    "    #calculate x value at i\n",
    "    x = x_frame[i]\n",
    "\n",
    "    A[i:(i+1),(i-1):i] = -1\n",
    "    A[i:(i+1),i:(i+1)] = 2+K*(x**2)*delta_x**2\n",
    "    A[i:(i+1),(i+1):(i+2)] = -1"
   ]
  },
  {
   "cell_type": "code",
   "execution_count": 6,
   "metadata": {},
   "outputs": [],
   "source": [
    "#Set up forward difference in first row\n",
    "\n",
    "#set BC first row\n",
    "A[0:1,0:1] = -3\n",
    "A[0:1,1:2] = 4\n",
    "A[0:1,2:3] = -1\n",
    "#A[0:1,3:4] = 1\n",
    "\n",
    "\n",
    "a = len(A)\n",
    "#set BC last row\n",
    "A[a-1:a,a-1:a] = -3\n",
    "A[a-1:a,a-2:a-1] = 4\n",
    "A[a-1:a,a-3:a-2] = -1\n",
    "#A[a-1:a,a-4:a-3] = 1"
   ]
  },
  {
   "cell_type": "code",
   "execution_count": 7,
   "metadata": {},
   "outputs": [],
   "source": [
    "[val, vect] = LA.eig(A)"
   ]
  },
  {
   "cell_type": "code",
   "execution_count": 8,
   "metadata": {},
   "outputs": [],
   "source": [
    "#save eigen values\n",
    "A12 = np.r_[val[0], val[1], val[2], val[3], val[4]]\n",
    "np.savetxt('A12.dat', A12)"
   ]
  },
  {
   "cell_type": "code",
   "execution_count": 9,
   "metadata": {},
   "outputs": [],
   "source": [
    "#save eigen vectors\n",
    "A7 = vect[0]\n",
    "np.savetxt('A7.dat', A7)\n",
    "\n",
    "#save eigen vectors\n",
    "A8 = vect[1]\n",
    "np.savetxt('A8.dat', A8)\n",
    "\n",
    "#save eigen vectors\n",
    "A9 = vect[2]\n",
    "np.savetxt('A9.dat', A9)\n",
    "\n",
    "#save eigen vectors\n",
    "A10 = vect[3]\n",
    "np.savetxt('A10.dat', A10)\n",
    "\n",
    "#save eigen vectors\n",
    "A11 = vect[4]\n",
    "np.savetxt('A11.dat', A11)"
   ]
  },
  {
   "cell_type": "markdown",
   "metadata": {},
   "source": [
    "#### Plots "
   ]
  },
  {
   "cell_type": "code",
   "execution_count": null,
   "metadata": {},
   "outputs": [],
   "source": []
  }
 ],
 "metadata": {
  "kernelspec": {
   "display_name": "Python 2",
   "language": "python",
   "name": "python2"
  },
  "language_info": {
   "codemirror_mode": {
    "name": "ipython",
    "version": 2
   },
   "file_extension": ".py",
   "mimetype": "text/x-python",
   "name": "python",
   "nbconvert_exporter": "python",
   "pygments_lexer": "ipython2",
   "version": "2.7.15"
  }
 },
 "nbformat": 4,
 "nbformat_minor": 2
}
