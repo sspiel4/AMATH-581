{
 "cells": [
  {
   "cell_type": "code",
   "execution_count": 44,
   "metadata": {},
   "outputs": [],
   "source": [
    "from __future__ import division\n",
    "import numpy as np\n",
    "import scipy\n",
    "from scipy import integrate\n",
    "from numpy import linalg as LA\n",
    "\n",
    "import pdb\n",
    "import matplotlib.pyplot as plt"
   ]
  },
  {
   "cell_type": "code",
   "execution_count": 45,
   "metadata": {},
   "outputs": [],
   "source": [
    "#import custom functions\n",
    "#harmonic is assignment function\n",
    "#sol_frame indexes array same as matlab\n",
    "\n",
    "from harmonic import *\n",
    "from sol_frame import *"
   ]
  },
  {
   "cell_type": "code",
   "execution_count": 254,
   "metadata": {},
   "outputs": [],
   "source": [
    "#set up frame\n",
    "\n",
    "#BC values for x\n",
    "x0=-4\n",
    "xN=4\n",
    "\n",
    "delta_x = 0.1\n",
    "x_frame = sol_frame(x0, xN, delta_x)\n",
    "K = 1"
   ]
  },
  {
   "cell_type": "code",
   "execution_count": 283,
   "metadata": {},
   "outputs": [
    {
     "data": {
      "text/plain": [
       "81"
      ]
     },
     "execution_count": 283,
     "metadata": {},
     "output_type": "execute_result"
    }
   ],
   "source": [
    "#set up matrix A\n",
    "a_dim = (len(x_frame), len(x_frame))\n",
    "A = np.zeros(a_dim)\n",
    "\n",
    "len(A)"
   ]
  },
  {
   "cell_type": "code",
   "execution_count": 284,
   "metadata": {},
   "outputs": [],
   "source": [
    "#add middle terms to matrix for central difference\n",
    "for i in range(0, len(A)):\n",
    "    #calculate x value at i\n",
    "    x = x_frame[i]\n",
    "\n",
    "    A[i:(i+1),(i-1):i] = -1\n",
    "    A[i:(i+1),i:(i+1)] = 2+K*(x**2)*delta_x**2\n",
    "    A[i:(i+1),(i+1):(i+2)] = -1"
   ]
  },
  {
   "cell_type": "code",
   "execution_count": 285,
   "metadata": {},
   "outputs": [],
   "source": [
    "#Set up forward difference in first row\n",
    "#pin first phi value to zero?\n",
    "#A[0:1,0:1] = 0 #-2\n",
    "#A[0:1,1:2] = 5 #+K*(x0**2)*delta_x**2\n",
    "#A[0:1,2:3] = -4\n",
    "#A[0:1,3:4] = 1\n",
    "\n",
    "#set up backward difference in last row\n",
    "#a = len(A)\n",
    "#pin last value to phi val to 0?\n",
    "#A[a-1:a,a-1:a] = 0 #-2\n",
    "#A[a-1:a,a-2:a-1] = 5 #+K*(xN**2)*delta_x**2\n",
    "#A[a-1:a,a-3:a-2] = -4\n",
    "#A[a-1:a,a-4:a-3] = 1"
   ]
  },
  {
   "cell_type": "code",
   "execution_count": 286,
   "metadata": {},
   "outputs": [
    {
     "data": {
      "text/plain": [
       "79"
      ]
     },
     "execution_count": 286,
     "metadata": {},
     "output_type": "execute_result"
    }
   ],
   "source": [
    "#np.savetxt('A.csv',A, delimiter=',')\n",
    "A = A[1:80,1:80]\n",
    "len(A)"
   ]
  },
  {
   "cell_type": "code",
   "execution_count": 288,
   "metadata": {},
   "outputs": [
    {
     "data": {
      "text/plain": [
       "array([4.07461398, 4.0746138 , 4.02384703, 4.02355095, 3.99867588,\n",
       "       3.98941432, 3.97124098, 3.95008664, 3.92542986, 3.89758689,\n",
       "       3.86670178, 3.83288325, 3.79622199, 3.75680013, 3.71469611,\n",
       "       3.66998741, 3.62275212, 3.57306991, 3.52102255, 3.46669429,\n",
       "       3.410172  , 3.35154531, 3.29090661, 3.22835098, 3.1639762 ,\n",
       "       3.09788261, 3.03017302, 2.81841087, 2.89032874, 2.96095261,\n",
       "       2.74531036, 2.67114035, 2.59601557, 2.52005218, 2.36608036,\n",
       "       2.44336761, 2.28830984, 2.21017621, 2.13180016, 2.05330274,\n",
       "       1.9748052 , 1.89642878, 1.74052315, 1.66323476, 1.81829454,\n",
       "       1.58654878, 0.00999376, 0.02996901, 0.04992266, 0.06987695,\n",
       "       0.08993201, 1.5105837 , 1.43545693, 1.36128461, 0.11038342,\n",
       "       0.13180538, 0.15493551, 0.18040802, 1.21626054, 1.14563325,\n",
       "       0.27351124, 0.23962307, 1.07640897, 0.31021123, 0.34965853,\n",
       "       1.00869504, 0.94259659, 0.39178166, 0.48375472, 0.87821637,\n",
       "       0.53344873, 0.58550659, 0.63984425, 0.69637495, 0.75500919,\n",
       "       0.20859161, 0.81565467, 0.43650601, 1.28818144])"
      ]
     },
     "execution_count": 288,
     "metadata": {},
     "output_type": "execute_result"
    }
   ],
   "source": [
    "LA.eigvals(A)"
   ]
  },
  {
   "cell_type": "code",
   "execution_count": null,
   "metadata": {},
   "outputs": [],
   "source": []
  },
  {
   "cell_type": "code",
   "execution_count": 219,
   "metadata": {},
   "outputs": [],
   "source": [
    "eig1 = eig_vals[0]\n",
    "eig2 = eig_vals[1]\n",
    "eig3 = eig_vals[2]\n",
    "eig4 = eig_vals[3]\n",
    "eig5 = eig_vals[4]"
   ]
  },
  {
   "cell_type": "code",
   "execution_count": 220,
   "metadata": {},
   "outputs": [
    {
     "data": {
      "text/plain": [
       "0.009993756327949474"
      ]
     },
     "execution_count": 220,
     "metadata": {},
     "output_type": "execute_result"
    }
   ],
   "source": [
    "eig1"
   ]
  },
  {
   "cell_type": "code",
   "execution_count": 221,
   "metadata": {},
   "outputs": [
    {
     "data": {
      "text/plain": [
       "0.02996901366441575"
      ]
     },
     "execution_count": 221,
     "metadata": {},
     "output_type": "execute_result"
    }
   ],
   "source": [
    "eig2"
   ]
  },
  {
   "cell_type": "code",
   "execution_count": 298,
   "metadata": {},
   "outputs": [
    {
     "data": {
      "text/plain": [
       "0.02996901366441575"
      ]
     },
     "execution_count": 298,
     "metadata": {},
     "output_type": "execute_result"
    }
   ],
   "source": [
    "k=1\n",
    "En = eig_vals[1]\n",
    "p = [k, En]\n",
    "y0 = [0,1]\n",
    "#solve ODE\n",
    "sol = integrate.odeint(harmonic, y0, x_frame, args=(p,))\n",
    "y1a = sol[:,0:1]\n",
    "y2a = sol[:,1:2]\n",
    "En"
   ]
  },
  {
   "cell_type": "code",
   "execution_count": 299,
   "metadata": {},
   "outputs": [
    {
     "data": {
      "image/png": "[encoded data removed]",
      "text/plain": [
       "<Figure size 432x288 with 1 Axes>"
      ]
     },
     "metadata": {},
     "output_type": "display_data"
    }
   ],
   "source": [
    "#create figure object\n",
    "fig = plt.figure()\n",
    "\n",
    "#plot each set of y values with respect to time\n",
    "ax = fig.add_axes([0,0,1,1])\n",
    "\n",
    "ax.plot(x_frame, y1a, label = '')\n",
    "#ax.plot(x_frame,y2a, label = '')\n",
    "\n",
    "#title axis\n",
    "ax.set_xlabel('x')\n",
    "ax.set_ylabel('y')\n",
    "ax.set_title('Harmonic')\n",
    "\n",
    "#include legend\n",
    "plt.legend(bbox_to_anchor=(1.05, 1), loc=2, borderaxespad=0.)\n",
    "\n",
    "plt.show()"
   ]
  },
  {
   "cell_type": "code",
   "execution_count": null,
   "metadata": {},
   "outputs": [],
   "source": []
  },
  {
   "cell_type": "code",
   "execution_count": 297,
   "metadata": {},
   "outputs": [
    {
     "name": "stdout",
     "output_type": "stream",
     "text": [
      "43\n",
      "[0.06361619]\n",
      "44\n",
      "[-0.15428844]\n",
      "57\n",
      "[-0.19182267]\n",
      "58\n",
      "[-0.0940844]\n",
      "59\n",
      "[-0.0011462]\n",
      "60\n",
      "[0.08527337]\n",
      "61\n",
      "[0.16403645]\n"
     ]
    }
   ],
   "source": [
    "tol = 0.2\n",
    "\n",
    "for i in range(0,len(eig_vals)):\n",
    "    #solve ODE\n",
    "    p=[k,eig_vals[i]]\n",
    "    sol = integrate.odeint(harmonic, y0, x_frame, args=(p,))\n",
    "\n",
    "    y1a = sol[:,0:1]\n",
    "    \n",
    "    if abs(y1a[len(y1a)-1]) < tol:\n",
    "        print i\n",
    "        print y1a[len(y1a)-1]\n",
    "    "
   ]
  },
  {
   "cell_type": "code",
   "execution_count": null,
   "metadata": {},
   "outputs": [],
   "source": []
  }
 ],
 "metadata": {
  "kernelspec": {
   "display_name": "Python 2",
   "language": "python",
   "name": "python2"
  },
  "language_info": {
   "codemirror_mode": {
    "name": "ipython",
    "version": 2
   },
   "file_extension": ".py",
   "mimetype": "text/x-python",
   "name": "python",
   "nbconvert_exporter": "python",
   "pygments_lexer": "ipython2",
   "version": "2.7.15"
  }
 },
 "nbformat": 4,
 "nbformat_minor": 2
}
