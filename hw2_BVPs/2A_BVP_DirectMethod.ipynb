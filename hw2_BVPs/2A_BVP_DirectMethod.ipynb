{
 "cells": [
  {
   "cell_type": "code",
   "execution_count": 1,
   "metadata": {},
   "outputs": [],
   "source": [
    "from __future__ import division\n",
    "\n",
    "import numpy as np\n",
    "\n",
    "import scipy\n",
    "from scipy import integrate\n",
    "\n",
    "from numpy import linalg as LA\n",
    "import matplotlib.pyplot as plt"
   ]
  },
  {
   "cell_type": "code",
   "execution_count": 16,
   "metadata": {},
   "outputs": [],
   "source": [
    "def sol_frame(start, stop, delta):\n",
    "    pts = int(1 + ((stop - start) / delta))\n",
    "    frame = np.linspace(start, stop, pts)\n",
    "    return frame"
   ]
  },
  {
   "cell_type": "code",
   "execution_count": 17,
   "metadata": {},
   "outputs": [],
   "source": [
    "#set up frame\n",
    "x_frame = sol_frame(-4, 4, 0.1)\n",
    "#np.column_stack(x_frame)"
   ]
  },
  {
   "cell_type": "code",
   "execution_count": 23,
   "metadata": {},
   "outputs": [],
   "source": [
    "#set up matrix A\n",
    "a_dim = (len(x_frame), len(x_frame))\n",
    "A = np.zeros(a_dim)"
   ]
  },
  {
   "cell_type": "code",
   "execution_count": 27,
   "metadata": {},
   "outputs": [],
   "source": [
    "#add middle terms to matrix for central difference\n",
    "for i in range(1, len(A)-1):\n",
    "    A[i:(i+1),(i-1):i] = 1\n",
    "    A[i:(i+1),i:(i+1)] = 2\n",
    "    A[i:(i+1),(i+1):(i+2)] = 1"
   ]
  },
  {
   "cell_type": "code",
   "execution_count": 28,
   "metadata": {},
   "outputs": [
    {
     "data": {
      "text/plain": [
       "array([[ 2., -5.,  4., ...,  0.,  0.,  0.],\n",
       "       [ 1.,  2.,  1., ...,  0.,  0.,  0.],\n",
       "       [ 0.,  1.,  2., ...,  0.,  0.,  0.],\n",
       "       ...,\n",
       "       [ 0.,  0.,  0., ...,  2.,  1.,  0.],\n",
       "       [ 0.,  0.,  0., ...,  1.,  2.,  1.],\n",
       "       [ 0.,  0.,  0., ...,  4., -5.,  2.]])"
      ]
     },
     "execution_count": 28,
     "metadata": {},
     "output_type": "execute_result"
    }
   ],
   "source": [
    "A"
   ]
  },
  {
   "cell_type": "code",
   "execution_count": 29,
   "metadata": {},
   "outputs": [],
   "source": [
    "A[0:1,0:1] = 2\n",
    "A[0:1,1:2] = -5\n",
    "A[0:1,2:3] = 4\n",
    "A[0:1,3:4] = 1\n",
    "\n",
    "a = len(A)\n",
    "A[a-1:a,a-1:a] = 2\n",
    "A[a-1:a,a-2:a-1] = -5\n",
    "A[a-1:a,a-3:a-2] = 4\n",
    "A[a-1:a,a-4:a-3] = 1"
   ]
  },
  {
   "cell_type": "code",
   "execution_count": 30,
   "metadata": {},
   "outputs": [
    {
     "data": {
      "text/plain": [
       "array([[ 2., -5.,  4., ...,  0.,  0.,  0.],\n",
       "       [ 1.,  2.,  1., ...,  0.,  0.,  0.],\n",
       "       [ 0.,  1.,  2., ...,  0.,  0.,  0.],\n",
       "       ...,\n",
       "       [ 0.,  0.,  0., ...,  2.,  1.,  0.],\n",
       "       [ 0.,  0.,  0., ...,  1.,  2.,  1.],\n",
       "       [ 0.,  0.,  0., ...,  4., -5.,  2.]])"
      ]
     },
     "execution_count": 30,
     "metadata": {},
     "output_type": "execute_result"
    }
   ],
   "source": [
    "A"
   ]
  },
  {
   "cell_type": "code",
   "execution_count": null,
   "metadata": {},
   "outputs": [],
   "source": []
  },
  {
   "cell_type": "code",
   "execution_count": null,
   "metadata": {},
   "outputs": [],
   "source": []
  }
 ],
 "metadata": {
  "kernelspec": {
   "display_name": "Python 2",
   "language": "python",
   "name": "python2"
  },
  "language_info": {
   "codemirror_mode": {
    "name": "ipython",
    "version": 2
   },
   "file_extension": ".py",
   "mimetype": "text/x-python",
   "name": "python",
   "nbconvert_exporter": "python",
   "pygments_lexer": "ipython2",
   "version": "2.7.15"
  }
 },
 "nbformat": 4,
 "nbformat_minor": 2
}
