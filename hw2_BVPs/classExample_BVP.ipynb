{
 "cells": [
  {
   "cell_type": "code",
   "execution_count": 66,
   "metadata": {},
   "outputs": [],
   "source": [
    "from __future__ import division\n",
    "\n",
    "import numpy as np\n",
    "import scipy\n",
    "from scipy import integrate\n",
    "from numpy import linalg as LA\n",
    "import matplotlib.pyplot as plt"
   ]
  },
  {
   "cell_type": "code",
   "execution_count": 67,
   "metadata": {},
   "outputs": [],
   "source": [
    "#set up function\n",
    "def rhs(y, t, param):\n",
    "    n0, beta = param\n",
    "    f1 = y[1]\n",
    "    f2 = (beta-n0)*y[0]\n",
    "    return [f1, f2]"
   ]
  },
  {
   "cell_type": "code",
   "execution_count": 68,
   "metadata": {},
   "outputs": [],
   "source": [
    "def sol_frame(start, stop, delta):\n",
    "    pts = int(1 + ((stop - start) / delta))\n",
    "    frame = np.linspace(start, stop, pts)\n",
    "    return frame"
   ]
  },
  {
   "cell_type": "code",
   "execution_count": 75,
   "metadata": {},
   "outputs": [],
   "source": [
    "#define constants\n",
    "tol = 10**-4\n",
    "n0 = 100\n",
    "xp = [-1,1]\n",
    "A = 1\n",
    "y0 = [0,A]\n",
    "\n",
    "beta_start = 100\n",
    "beta = beta_start\n",
    "\n",
    "# Pack up the parameters and initial conditions:\n",
    "p = [n0, beta]"
   ]
  },
  {
   "cell_type": "code",
   "execution_count": 76,
   "metadata": {},
   "outputs": [],
   "source": [
    "x_frame = sol_frame(xp[0], xp[1], 0.01)"
   ]
  },
  {
   "cell_type": "code",
   "execution_count": 77,
   "metadata": {},
   "outputs": [
    {
     "name": "stdout",
     "output_type": "stream",
     "text": [
      "1.0\n",
      "100\n",
      "found solution on iteration:\n",
      "22\n"
     ]
    }
   ],
   "source": [
    "dbeta = n0/100\n",
    "\n",
    "for j in range(1, 1000):\n",
    "    #reset beta\n",
    "    p = [n0, beta]\n",
    "    #solve ODE\n",
    "    sol = integrate.odeint(rhs, y0, x_frame, args=(p,))\n",
    "    \n",
    "    #pull end value\n",
    "    end = len(sol)\n",
    "    end_val = sol[end-1:end, 0:1]\n",
    "    \n",
    "    #check if solution is within tolerance\n",
    "    if abs(end_val) < tol:\n",
    "        beta\n",
    "        print('found solution on iteration:')\n",
    "        print j\n",
    "        break;\n",
    "        \n",
    "    if end_val > 0:\n",
    "        beta = beta-dbeta\n",
    "    else:\n",
    "        beta = beta+dbeta/2\n",
    "        dbeta = dbeta/2\n",
    "\n",
    "y1a = sol[:,0:1]\n",
    "y2a = sol[:,1:2]"
   ]
  },
  {
   "cell_type": "code",
   "execution_count": 72,
   "metadata": {},
   "outputs": [
    {
     "name": "stdout",
     "output_type": "stream",
     "text": [
      "[[4.70088793e-05]]\n"
     ]
    }
   ],
   "source": [
    "if end_val > 0:\n",
    "    print end_val"
   ]
  },
  {
   "cell_type": "code",
   "execution_count": 73,
   "metadata": {},
   "outputs": [
    {
     "data": {
      "image/png": "[encoded data removed]",
      "text/plain": [
       "<Figure size 432x288 with 1 Axes>"
      ]
     },
     "metadata": {},
     "output_type": "display_data"
    }
   ],
   "source": [
    "#create figure object\n",
    "fig = plt.figure()\n",
    "\n",
    "#plot each set of y values with respect to time\n",
    "ax = fig.add_axes([0,0,1,1])\n",
    "\n",
    "ax.plot(x_frame,y1a, label = '')\n",
    "ax.plot(x_frame,y2a, label = '')\n",
    "\n",
    "#title axis\n",
    "ax.set_xlabel('t')\n",
    "ax.set_ylabel('y')\n",
    "ax.set_title('RHS')\n",
    "\n",
    "#include legend\n",
    "plt.legend(bbox_to_anchor=(1.05, 1), loc=2, borderaxespad=0.)\n",
    "\n",
    "plt.show()"
   ]
  },
  {
   "cell_type": "code",
   "execution_count": null,
   "metadata": {},
   "outputs": [],
   "source": []
  }
 ],
 "metadata": {
  "kernelspec": {
   "display_name": "Python 2",
   "language": "python",
   "name": "python2"
  },
  "language_info": {
   "codemirror_mode": {
    "name": "ipython",
    "version": 2
   },
   "file_extension": ".py",
   "mimetype": "text/x-python",
   "name": "python",
   "nbconvert_exporter": "python",
   "pygments_lexer": "ipython2",
   "version": "2.7.15"
  }
 },
 "nbformat": 4,
 "nbformat_minor": 2
}
