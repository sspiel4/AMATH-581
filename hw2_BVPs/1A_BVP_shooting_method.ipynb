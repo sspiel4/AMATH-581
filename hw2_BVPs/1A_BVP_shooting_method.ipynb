{
 "cells": [
  {
   "cell_type": "code",
   "execution_count": 27,
   "metadata": {},
   "outputs": [],
   "source": [
    "import numpy as np\n",
    "import scipy\n",
    "from scipy import integrate\n",
    "from numpy import linalg as LA\n",
    "import matplotlib.pyplot as plt"
   ]
  },
  {
   "cell_type": "code",
   "execution_count": 28,
   "metadata": {},
   "outputs": [],
   "source": [
    "#set up function\n",
    "def harmonic(y, t, param):\n",
    "    k, En = param\n",
    "    \n",
    "    y1 = y[1]\n",
    "    y2 = (k-En)*y[0]\n",
    "    return [y1, y2]"
   ]
  },
  {
   "cell_type": "code",
   "execution_count": 29,
   "metadata": {},
   "outputs": [],
   "source": [
    "def sol_frame(start, stop, delta):\n",
    "    pts = int(1 + ((stop - start) / delta))\n",
    "    frame = np.linspace(start, stop, pts)\n",
    "    return frame"
   ]
  },
  {
   "cell_type": "code",
   "execution_count": 34,
   "metadata": {},
   "outputs": [],
   "source": [
    "#define constants\n",
    "k = 1\n",
    "xp = [-4,4]\n",
    "A = 1\n",
    "y0 = [0,A]\n",
    "\n",
    "En_start = k\n",
    "En = En_start\n",
    "\n",
    "# Pack up the parameters and initial conditions:\n",
    "p = [k, En]"
   ]
  },
  {
   "cell_type": "code",
   "execution_count": 35,
   "metadata": {},
   "outputs": [],
   "source": [
    "x_frame = sol_frame(xp[0], xp[1], 0.5)"
   ]
  },
  {
   "cell_type": "code",
   "execution_count": 36,
   "metadata": {},
   "outputs": [],
   "source": [
    "sol = integrate.odeint(harmonic, y0, x_frame, args=(p,))\n",
    "y1a = sol[:,0:1]\n",
    "y2a = sol[:,1:2]"
   ]
  },
  {
   "cell_type": "code",
   "execution_count": 37,
   "metadata": {},
   "outputs": [
    {
     "data": {
      "image/png": "[encoded data removed]",
      "text/plain": [
       "<Figure size 432x288 with 1 Axes>"
      ]
     },
     "metadata": {},
     "output_type": "display_data"
    }
   ],
   "source": [
    "#create figure object\n",
    "fig = plt.figure()\n",
    "\n",
    "#plot each set of y values with respect to time\n",
    "ax = fig.add_axes([0,0,1,1])\n",
    "\n",
    "ax.plot(x_frame,y1a, label = '')\n",
    "ax.plot(x_frame,y2a, label = '')\n",
    "\n",
    "#title axis\n",
    "ax.set_xlabel('x')\n",
    "ax.set_ylabel('y')\n",
    "ax.set_title('Harmonic')\n",
    "\n",
    "#include legend\n",
    "plt.legend(bbox_to_anchor=(1.05, 1), loc=2, borderaxespad=0.)\n",
    "\n",
    "plt.show()"
   ]
  },
  {
   "cell_type": "code",
   "execution_count": null,
   "metadata": {},
   "outputs": [],
   "source": []
  }
 ],
 "metadata": {
  "kernelspec": {
   "display_name": "Python 2",
   "language": "python",
   "name": "python2"
  },
  "language_info": {
   "codemirror_mode": {
    "name": "ipython",
    "version": 2
   },
   "file_extension": ".py",
   "mimetype": "text/x-python",
   "name": "python",
   "nbconvert_exporter": "python",
   "pygments_lexer": "ipython2",
   "version": "2.7.15"
  }
 },
 "nbformat": 4,
 "nbformat_minor": 2
}
