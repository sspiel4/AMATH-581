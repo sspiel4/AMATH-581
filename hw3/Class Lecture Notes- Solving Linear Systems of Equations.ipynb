{
 "cells": [
  {
   "cell_type": "code",
   "execution_count": 81,
   "metadata": {},
   "outputs": [],
   "source": [
    "from __future__ import division\n",
    "import numpy as np\n",
    "import scipy\n",
    "from scipy import linalg as sciLA\n",
    "from scipy import integrate\n",
    "from numpy import linalg as LA\n",
    "from scipy.sparse import spdiags\n",
    "from scipy.sparse import diags\n",
    "import scipy.io as sio\n",
    "\n",
    "import matplotlib.pyplot as plt"
   ]
  },
  {
   "cell_type": "markdown",
   "metadata": {},
   "source": [
    "#### Solving with Guassian or LU Decomp "
   ]
  },
  {
   "cell_type": "code",
   "execution_count": 82,
   "metadata": {},
   "outputs": [],
   "source": [
    "A = np.matrix([[1,1,1],[1,2,4],[1,3,9]])\n",
    "b = np.matrix([[1],[-1],[1]])\n",
    "\n",
    "#simple way to solve, uses Guassian Elimination, similiar to a \\ in matlab\n",
    "x = LA.solve(A,b)\n",
    "#print x\n",
    "\n",
    "#LU decomposition for solving\n",
    "[P, L, U] = sciLA.lu(A)\n",
    "y = LA.solve(L, LA.inv(P) * b)\n",
    "x = LA.solve(U,y)\n",
    "#print x"
   ]
  },
  {
   "cell_type": "markdown",
   "metadata": {},
   "source": [
    "#### Import .mat  for HW"
   ]
  },
  {
   "cell_type": "code",
   "execution_count": 83,
   "metadata": {},
   "outputs": [
    {
     "data": {
      "text/plain": [
       "(400L, 400L)"
      ]
     },
     "execution_count": 83,
     "metadata": {},
     "output_type": "execute_result"
    }
   ],
   "source": [
    "mat_contents = sio.loadmat('Fmat.mat')\n",
    "Fmat = mat_contents['Fmat']\n",
    "Fmat.shape"
   ]
  },
  {
   "cell_type": "code",
   "execution_count": 84,
   "metadata": {},
   "outputs": [
    {
     "data": {
      "text/plain": [
       "(1L, 16L)"
      ]
     },
     "execution_count": 84,
     "metadata": {},
     "output_type": "execute_result"
    }
   ],
   "source": [
    "mat_contents = sio.loadmat('permvec.mat')\n",
    "permvec = mat_contents['permvec']\n",
    "permvec.shape"
   ]
  },
  {
   "cell_type": "markdown",
   "metadata": {},
   "source": [
    "#### Iterative Methods"
   ]
  },
  {
   "cell_type": "markdown",
   "metadata": {},
   "source": [
    "##### Solve with Jacobi Method"
   ]
  },
  {
   "cell_type": "code",
   "execution_count": 271,
   "metadata": {},
   "outputs": [
    {
     "name": "stdout",
     "output_type": "stream",
     "text": [
      "it took 8 iterations to find a solution\n"
     ]
    }
   ],
   "source": [
    "#given\n",
    "A = np.matrix([[4,-1,1],\n",
    "               [4,-8,1],\n",
    "               [-2,1,5]])\n",
    "\n",
    "b = np.matrix([[7],[-21],[15]])\n",
    "\n",
    "#first we would want to check for strictly diagonal dominant\n",
    "\n",
    "#create diagonal matrix\n",
    "diags = np.diag(A)\n",
    "D = np.diag(diags)\n",
    "# create R matrix\n",
    "R = A - D\n",
    "R_sums = R.sum(axis=1)\n",
    "\n",
    "#loop through and check for SDD\n",
    "for i in range(0, len(diags)):\n",
    "    if abs(R_sums[i]) > abs(diags[i]):\n",
    "        print 'fails at index: ' + str(i)\n",
    "    i = i + 1\n",
    "    \n",
    "    \n",
    "#create other matrices needed to solve\n",
    "\n",
    "#create strict upper matrix\n",
    "Us = np.asmatrix(np.triu(A, k=1))\n",
    "#create upper matrix\n",
    "U = np.asmatrix(np.triu(A, k=0))\n",
    "#create lower matrix\n",
    "L = np.asmatrix(np.tril(A, k=0))\n",
    "\n",
    "x0 = [1, 2, 2]\n",
    "x = np.column_stack((x0,))\n",
    "\n",
    "#set tolerance\n",
    "tol = 10**-4\n",
    "\n",
    "for i in range(0, 10):\n",
    "    x1 = LA.inv(D) * (-R * x + b)\n",
    "    \n",
    "    if (abs(x1[0, 0]-x[0, 0]) < tol) or (abs(x1[1, 0]-x[1, 0]) < tol) or (abs(x1[2, 0]-x[2, 0]) < tol):\n",
    "        print 'it took ' + str(i+1) + ' iterations to find a solution'\n",
    "        break;\n",
    "    \n",
    "    x = x1"
   ]
  },
  {
   "cell_type": "markdown",
   "metadata": {},
   "source": [
    "##### Solve with Gauss Seidel Method"
   ]
  },
  {
   "cell_type": "code",
   "execution_count": 273,
   "metadata": {},
   "outputs": [],
   "source": [
    "#given\n",
    "A = np.matrix([[4,-1,1],\n",
    "               [4,-8,1],\n",
    "               [-2,1,5]])\n",
    "\n",
    "b = np.matrix([[7],[-21],[15]])\n",
    "\n",
    "#first we would want to check for strictly diagonal dominant\n",
    "\n",
    "#create diagonal matrix\n",
    "diags = np.diag(A)\n",
    "D = np.diag(diags)\n",
    "# create R matrix\n",
    "R = A - D\n",
    "R_sums = R.sum(axis=1)\n",
    "\n",
    "#loop through and check for SDD\n",
    "for i in range(0, len(diags)):\n",
    "    if abs(R_sums[i]) > abs(diags[i]):\n",
    "        print 'fails at index: ' + str(i)\n",
    "    i = i + 1\n",
    "    \n",
    "    \n",
    "#create other matrices needed to solve\n",
    "\n",
    "#create strict upper matrix\n",
    "Us = np.asmatrix(np.triu(A, k=1))\n",
    "#create upper matrix\n",
    "U = np.asmatrix(np.triu(A, k=0))\n",
    "#create lower matrix\n",
    "L = np.asmatrix(np.tril(A, k=0))\n",
    "\n",
    "x0 = [1, 2, 2]\n",
    "x = np.column_stack((x0,))\n",
    "\n",
    "#set tolerance\n",
    "tol = 10**-4\n",
    "\n",
    "for i in range(0, 100):\n",
    "    x1 = np.dot(LA.inv(L) , (-Us + b) * x)\n",
    "    \n",
    "    if (abs(x1[0, 0]-x[0, 0]) < tol) or (abs(x1[1, 0]-x[1, 0]) < tol) or (abs(x1[2, 0]-x[2, 0]) < tol):\n",
    "        print 'it took ' + str(i+1) + ' iterations to find a solution'\n",
    "        break;\n",
    "    \n",
    "    x = x1"
   ]
  },
  {
   "cell_type": "code",
   "execution_count": 274,
   "metadata": {},
   "outputs": [],
   "source": [
    "x1 = LA.inv(L) * ((-Us + b) * x)"
   ]
  },
  {
   "cell_type": "code",
   "execution_count": 277,
   "metadata": {},
   "outputs": [],
   "source": [
    "import numpy as np\n",
    "\n",
    "ITERATION_LIMIT = 10\n",
    "\n",
    "#given\n",
    "A = np.matrix([[4,-1,1],\n",
    "               [4,-8,1],\n",
    "               [-2,1,5]])\n",
    "\n",
    "b = np.matrix([[7],[-21],[15]])\n",
    "\n",
    "x = np.zeros_like(b)\n",
    "for it_count in range(1, ITERATION_LIMIT):\n",
    "    x_new = np.zeros_like(x)\n",
    "    #print(\"Iteration {0}: {1}\".format(it_count, x))\n",
    "    for i in range(A.shape[0]):\n",
    "        s1 = np.dot(A[i, :i], x_new[:i])\n",
    "        s2 = np.dot(A[i, i + 1:], x[i + 1:])\n",
    "        x_new[i] = (b[i] - s1 - s2) / A[i, i]\n",
    "    if np.allclose(x, x_new, rtol=1e-4):\n",
    "        break\n",
    "    x = x_new\n",
    "\n",
    "#print(\"Solution: {0}\".format(x))\n",
    "error = np.dot(A, x) - b\n",
    "#print(\"Error: {0}\".format(error))"
   ]
  },
  {
   "cell_type": "code",
   "execution_count": 281,
   "metadata": {},
   "outputs": [
    {
     "data": {
      "text/plain": [
       "129"
      ]
     },
     "execution_count": 281,
     "metadata": {},
     "output_type": "execute_result"
    }
   ],
   "source": [
    "L = 20 #define computational domain\n",
    "n = 128 #define the number of fourier modes\n",
    "\n",
    "x2 = np.linspace(-L/2, L/2, n+1) #define the domain discritization\n",
    "len(x2)"
   ]
  },
  {
   "cell_type": "code",
   "execution_count": 284,
   "metadata": {},
   "outputs": [
    {
     "data": {
      "text/plain": [
       "127"
      ]
     },
     "execution_count": 284,
     "metadata": {},
     "output_type": "execute_result"
    }
   ],
   "source": [
    "x = x2[1:n] #consider only the first n points: periodic\n",
    "len(x)"
   ]
  },
  {
   "cell_type": "code",
   "execution_count": 287,
   "metadata": {},
   "outputs": [
    {
     "data": {
      "text/plain": [
       "63.0"
      ]
     },
     "execution_count": 287,
     "metadata": {},
     "output_type": "execute_result"
    }
   ],
   "source": [
    "L = 20 #define computational domain\n",
    "n = 128 #define the number of fourier modes\n",
    "\n",
    "x2 = np.linspace(-L/2, L/2, n+1) #define the domain discritization\n",
    "x = x2[0:n] #consider only the first n points: periodic\n",
    "\n",
    "u = 1 / np.cosh(x) #function to take derivative\n",
    "ut = np.fft.fft(u) #FFT the function\n",
    "\n",
    "\n",
    "n/2-1"
   ]
  },
  {
   "cell_type": "code",
   "execution_count": 303,
   "metadata": {},
   "outputs": [
    {
     "data": {
      "text/plain": [
       "array([ -1.,  -2.,  -3.,  -4.,  -5.,  -6.,  -7.,  -8.,  -9., -10., -11.,\n",
       "       -12., -13., -14., -15., -16., -17., -18., -19., -20., -21., -22.,\n",
       "       -23., -24., -25., -26., -27., -28., -29., -30., -31., -32., -33.,\n",
       "       -34., -35., -36., -37., -38., -39., -40., -41., -42., -43., -44.,\n",
       "       -45., -46., -47., -48., -49., -50., -51., -52., -53., -54., -55.,\n",
       "       -56., -57., -58., -59., -60., -61., -62., -63., -64.])"
      ]
     },
     "execution_count": 303,
     "metadata": {},
     "output_type": "execute_result"
    }
   ],
   "source": [
    "#k = (2*np.pi/L)*\n",
    "np.arange(0,(n/2-1),1)\n",
    "np.arange(-1,((-n-1)/2),-1)"
   ]
  },
  {
   "cell_type": "code",
   "execution_count": 323,
   "metadata": {},
   "outputs": [
    {
     "data": {
      "text/plain": [
       "array([  0.,   1.,   2.,   3.,   4.,   5.,   6.,   7.,   8.,   9.,  10.,\n",
       "        11.,  12.,  13.,  14.,  15.,  16.,  17.,  18.,  19.,  20.,  21.,\n",
       "        22.,  23.,  24.,  25.,  26.,  27.,  28.,  29.,  30.,  31.,  32.,\n",
       "        33.,  34.,  35.,  36.,  37.,  38.,  39.,  40.,  41.,  42.,  43.,\n",
       "        44.,  45.,  46.,  47.,  48.,  49.,  50.,  51.,  52.,  53.,  54.,\n",
       "        55.,  56.,  57.,  58.,  59.,  60.,  61.,  62.,  63., -64., -63.,\n",
       "       -62., -61., -60., -59., -58., -57., -56., -55., -54., -53., -52.,\n",
       "       -51., -50., -49., -48., -47., -46., -45., -44., -43., -42., -41.,\n",
       "       -40., -39., -38., -37., -36., -35., -34., -33., -32., -31., -30.,\n",
       "       -29., -28., -27., -26., -25., -24., -23., -22., -21., -20., -19.,\n",
       "       -18., -17., -16., -15., -14., -13., -12., -11., -10.,  -9.,  -8.,\n",
       "        -7.,  -6.,  -5.,  -4.,  -3.,  -2.,  -1.])"
      ]
     },
     "execution_count": 323,
     "metadata": {},
     "output_type": "execute_result"
    }
   ],
   "source": [
    "np.append(np.arange(0,(n/2),1), np.flip(np.arange(-1,((-n-1)/2),-1), 0))"
   ]
  },
  {
   "cell_type": "code",
   "execution_count": null,
   "metadata": {},
   "outputs": [],
   "source": []
  },
  {
   "cell_type": "code",
   "execution_count": 314,
   "metadata": {},
   "outputs": [
    {
     "data": {
      "text/plain": [
       "(<Figure size 432x288 with 1 Axes>,\n",
       " [<matplotlib.lines.Line2D at 0xad6cac8>,\n",
       "  <matplotlib.lines.Line2D at 0x9946f98>,\n",
       "  <matplotlib.lines.Line2D at 0xad6ce48>,\n",
       "  <matplotlib.lines.Line2D at 0xad7a160>,\n",
       "  <matplotlib.lines.Line2D at 0xad7a518>])"
      ]
     },
     "execution_count": 314,
     "metadata": {},
     "output_type": "execute_result"
    },
    {
     "data": {
      "image/png": "[encoded data removed]",
      "text/plain": [
       "<Figure size 432x288 with 1 Axes>"
      ]
     },
     "metadata": {},
     "output_type": "display_data"
    }
   ],
   "source": [
    "L = 20 #define computational domain\n",
    "n = 128 #define the number of fourier modes\n",
    "\n",
    "x2 = np.linspace(-L/2, L/2, n+1) #define the domain discritization\n",
    "x = x2[0:n] #consider only the first n points: periodic\n",
    "\n",
    "u = 1 / np.cosh(x) #function to take derivative\n",
    "ut = np.fft.fft(u) #FFT the function\n",
    "\n",
    "\n",
    "k = (2*np.pi/L)*np.append(np.arange(0,(n/2),1),np.arange(-1,((-n-1)/2),-1)) #k rescale to 2pi domain\n",
    "\n",
    "ut1 = 1j*k*ut #take first dericative\n",
    "ut2 = -k**2*ut #take second derivative\n",
    "ut3 = -1j*k**3*ut #take third derivative\n",
    "\n",
    "u1=np.fft.ifft(ut1) #inver transform\n",
    "u2=np.fft.ifft(ut2) #inver transform\n",
    "u3=np.fft.ifft(ut3) #inver transform\n",
    "\n",
    "u1exact=-(1/np.cosh(x))*np.tanh(x)\n",
    "\n",
    "utshift = np.fft.fftshift(ut) #shift FFT\n",
    "\n",
    "plt.figure(1), plt.plot(x,u,'r',x,u1,'g',x,u1exact,'go',x,u2,'b',x,u3,'c')"
   ]
  },
  {
   "cell_type": "code",
   "execution_count": 308,
   "metadata": {},
   "outputs": [
    {
     "data": {
      "text/plain": [
       "128"
      ]
     },
     "execution_count": 308,
     "metadata": {},
     "output_type": "execute_result"
    }
   ],
   "source": [
    "len(k)"
   ]
  },
  {
   "cell_type": "code",
   "execution_count": 312,
   "metadata": {},
   "outputs": [
    {
     "data": {
      "text/plain": [
       "array([], dtype=float64)"
      ]
     },
     "execution_count": 312,
     "metadata": {},
     "output_type": "execute_result"
    }
   ],
   "source": [
    "np.arange(-1((-n-1)/2),-1)"
   ]
  },
  {
   "cell_type": "code",
   "execution_count": null,
   "metadata": {},
   "outputs": [],
   "source": []
  }
 ],
 "metadata": {
  "kernelspec": {
   "display_name": "Python 2",
   "language": "python",
   "name": "python2"
  },
  "language_info": {
   "codemirror_mode": {
    "name": "ipython",
    "version": 2
   },
   "file_extension": ".py",
   "mimetype": "text/x-python",
   "name": "python",
   "nbconvert_exporter": "python",
   "pygments_lexer": "ipython2",
   "version": "2.7.15"
  }
 },
 "nbformat": 4,
 "nbformat_minor": 2
}
