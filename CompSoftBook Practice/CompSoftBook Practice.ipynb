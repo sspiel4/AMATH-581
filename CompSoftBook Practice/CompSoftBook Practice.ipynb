{
 "cells": [
  {
   "cell_type": "code",
   "execution_count": 1,
   "metadata": {},
   "outputs": [],
   "source": [
    "from __future__ import division\n",
    "import numpy as np"
   ]
  },
  {
   "cell_type": "markdown",
   "metadata": {},
   "source": [
    "### Excercise 1 "
   ]
  },
  {
   "cell_type": "code",
   "execution_count": 2,
   "metadata": {},
   "outputs": [],
   "source": [
    "A1 = np.matrix([[34,45],[17,6]])\n",
    "np.savetxt('A1.dat', A1)"
   ]
  },
  {
   "cell_type": "markdown",
   "metadata": {},
   "source": [
    "### Excercise 2"
   ]
  },
  {
   "cell_type": "code",
   "execution_count": 3,
   "metadata": {},
   "outputs": [],
   "source": [
    "#Define Matrices\n",
    "\n",
    "A = np.matrix([[1,2],[-1,1]])\n",
    "B = np.matrix([[2,0],[0,2]])\n",
    "C = np.matrix([[2,0,-3],[0,0,-1]])\n",
    "D = np.matrix([[1,2],[2,3],[-1,0]])\n",
    "x = np.matrix([[1],[0]])\n",
    "y = np.matrix([[0],[1]])\n",
    "z = np.matrix([[1],[2],[-1]])"
   ]
  },
  {
   "cell_type": "code",
   "execution_count": 4,
   "metadata": {},
   "outputs": [],
   "source": [
    "A2 = A + B\n",
    "np.savetxt('A2.dat', A2)"
   ]
  },
  {
   "cell_type": "code",
   "execution_count": 5,
   "metadata": {},
   "outputs": [],
   "source": [
    "A3 = 3*x - 4*y\n",
    "np.savetxt('A3.dat', A3)"
   ]
  },
  {
   "cell_type": "code",
   "execution_count": 6,
   "metadata": {},
   "outputs": [],
   "source": [
    "A4 = np.matmul(A,x)\n",
    "np.savetxt('A4.dat', A4)"
   ]
  },
  {
   "cell_type": "code",
   "execution_count": 7,
   "metadata": {},
   "outputs": [],
   "source": [
    "A5 = np.matmul(B,(x-y))\n",
    "np.savetxt('A5.dat', A5)"
   ]
  },
  {
   "cell_type": "code",
   "execution_count": 8,
   "metadata": {},
   "outputs": [],
   "source": [
    "A6 = np.matmul(D,x)\n",
    "np.savetxt('A6.dat', A6)"
   ]
  },
  {
   "cell_type": "code",
   "execution_count": 9,
   "metadata": {},
   "outputs": [],
   "source": [
    "A7 = np.matmul(D,y) + z\n",
    "np.savetxt('A7.dat', A7)"
   ]
  },
  {
   "cell_type": "code",
   "execution_count": 10,
   "metadata": {},
   "outputs": [],
   "source": [
    "A8 = np.matmul(A, B)\n",
    "np.savetxt('A8.dat', A8)"
   ]
  },
  {
   "cell_type": "code",
   "execution_count": 11,
   "metadata": {},
   "outputs": [],
   "source": [
    "A9 = np.matmul(B, C)\n",
    "np.savetxt('A9.dat', A9)"
   ]
  },
  {
   "cell_type": "code",
   "execution_count": 12,
   "metadata": {},
   "outputs": [],
   "source": [
    "A10 = np.matmul(C, D)\n",
    "np.savetxt('A10.dat', A10)"
   ]
  },
  {
   "cell_type": "markdown",
   "metadata": {},
   "source": [
    "### Excercise 3 - Root Finding "
   ]
  },
  {
   "cell_type": "markdown",
   "metadata": {},
   "source": [
    "Consider the function f(x) = −x − cos(x) and solve to find the root near x ≈ −0.74, i.e., xvalue\n",
    "that satisfies f(x) = 0. In the first part, use the Newton-Raphson method with the initial\n",
    "guess x(1) = −3 to converge (in absolute value) to the solution within 10−6. Keep track of the\n",
    "number of iterations until convergence is achieved (NOTE: please check convergence with f(xn+1)).\n",
    "In the second part, use bisection with the interval end points xa = −3 and xb = 1. Keep track of\n",
    "the mid point values and number of iterations until an accuracy of 10−6 is achieved."
   ]
  },
  {
   "cell_type": "code",
   "execution_count": 13,
   "metadata": {},
   "outputs": [],
   "source": [
    "'''\n",
    "f(x) = -x -cos(x)\n",
    "f'(x) = -1 + sin(x)\n",
    "'''\n",
    "\n",
    "#initial condition\n",
    "x_0 = -3\n",
    "#define accuracy\n",
    "acc = 10**-6"
   ]
  },
  {
   "cell_type": "code",
   "execution_count": 14,
   "metadata": {},
   "outputs": [],
   "source": [
    "#newton method\n",
    "x = x_0\n",
    "fx = -x - np.cos(x)\n",
    "\n",
    "#empty list for newton method\n",
    "A11 = []\n",
    "#A11.append(x)\n",
    "\n",
    "while (-acc > fx) or (fx > acc):\n",
    "    fx = -x - np.cos(x)\n",
    "    fxx = -1 +np.sin(x)\n",
    "    x = x - (fx/fxx)\n",
    "    A11.append(x)\n",
    "    \n",
    "fx = -x - np.cos(x)\n",
    "\n",
    "np.savetxt('A11.dat', A11)"
   ]
  },
  {
   "cell_type": "code",
   "execution_count": 15,
   "metadata": {},
   "outputs": [],
   "source": [
    "#bisection method\n",
    "\n",
    "#declare vars\n",
    "r1 = 0.0\n",
    "r2 = -3\n",
    "fr1 = 0\n",
    "fr2 = 0\n",
    "x = (r1 + r2) / 2\n",
    "\n",
    "#declare A12\n",
    "A12 = []\n",
    "fx = -x - np.cos(x)\n",
    "\n",
    "A12.append(x) \n",
    "\n",
    "while (-acc > fx) or (fx > acc):\n",
    "    fx = -x - np.cos(x) \n",
    "    #calculate function values\n",
    "    fr1 = abs(-r1 - np.cos(r1))\n",
    "    fr2 = abs(-r2 - np.cos(r2))\n",
    "    \n",
    "    if fr1 > fr2:\n",
    "        r1 = r1 - (abs(r2) - abs(r1))/2\n",
    "        x = r1\n",
    "    else:\n",
    "        r2 = r2 + (abs(r2) - abs(r1))/2\n",
    "        x = r2   \n",
    "    A12.append(x)  \n",
    "    \n",
    "np.savetxt('A12.dat', A12)"
   ]
  },
  {
   "cell_type": "code",
   "execution_count": 16,
   "metadata": {},
   "outputs": [],
   "source": [
    "A13 = np.matrix([[len(A11)],[len(A12)]])\n",
    "np.savetxt('A13.dat', A13)"
   ]
  }
 ],
 "metadata": {
  "kernelspec": {
   "display_name": "Python 2",
   "language": "python",
   "name": "python2"
  },
  "language_info": {
   "codemirror_mode": {
    "name": "ipython",
    "version": 2
   },
   "file_extension": ".py",
   "mimetype": "text/x-python",
   "name": "python",
   "nbconvert_exporter": "python",
   "pygments_lexer": "ipython2",
   "version": "2.7.15"
  }
 },
 "nbformat": 4,
 "nbformat_minor": 2
}
