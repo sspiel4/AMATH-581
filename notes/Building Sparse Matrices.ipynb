{
 "cells": [
  {
   "cell_type": "code",
   "execution_count": 1,
   "metadata": {},
   "outputs": [],
   "source": [
    "from __future__ import division\n",
    "import numpy as np\n",
    "import scipy\n",
    "from scipy import linalg as sciLA\n",
    "from scipy import integrate\n",
    "from numpy import linalg as LA\n",
    "from scipy.sparse import spdiags\n",
    "from scipy.sparse import diags\n",
    "import scipy.io as sio\n",
    "\n",
    "import matplotlib.pyplot as plt"
   ]
  },
  {
   "cell_type": "code",
   "execution_count": 81,
   "metadata": {},
   "outputs": [],
   "source": [
    "#starting matrix to stack\n",
    "N=4 # number of columns\n",
    "M=4 # number of rows\n",
    "dims = M*N\n",
    "\n",
    "#start with array of zeros\n",
    "A = np.zeros((dims,dims))"
   ]
  },
  {
   "cell_type": "code",
   "execution_count": 102,
   "metadata": {},
   "outputs": [],
   "source": [
    "#boundary conditions\n",
    "dbc1 = np.ones(dims)\n",
    "vbc1 = (N-1)*M \n",
    "dbc2 = np.ones(dims)\n",
    "vbc2 = -(N-1)*M\n",
    "dbc3 = np.ones(dims)\n",
    "for i in range(1,len(dbc3)):\n",
    "    if i%(N+1) != 0:\n",
    "        dbc3[i] = 0\n",
    "vbc3 = N-1\n",
    "dbc4 = np.ones(dims)\n",
    "for i in range(1,len(dbc4)):\n",
    "    if i%(N+1) != 0:\n",
    "        dbc4[i] = 0\n",
    "vbc4 = -N+1\n",
    "\n",
    "#central conditions\n",
    "d1 = np.ones(dims)*-4\n",
    "v1 = 0\n",
    "d2 = np.ones(dims)\n",
    "v2 = -N\n",
    "d3 = np.ones(dims)\n",
    "v3 = N\n",
    "d4 = np.ones(dims)\n",
    "for i in range(1,len(d4)):\n",
    "    if i%N == 0:\n",
    "        d4[i] = 0\n",
    "v4 = -1\n",
    "d5 = np.ones(dims)\n",
    "for i in range(1,len(d5)):\n",
    "    if i%N == 0:\n",
    "        d5[i] = 0\n",
    "v5 = 1\n",
    "data = np.array([d1,d2,d3,d4,d5,dbc1,dbc2,dbc3,dbc4])\n",
    "diags = np.array([v1,v2,v3,v4,v5,vbc1,vbc2,vbc3,vbc4])\n",
    "\n",
    "A = spdiags(data, diags, dims, dims).toarray()\n",
    "\n",
    "\n",
    "\n",
    "np.savetxt(\"A.csv\", A, delimiter=\",\")"
   ]
  },
  {
   "cell_type": "code",
   "execution_count": 99,
   "metadata": {},
   "outputs": [
    {
     "data": {
      "text/plain": [
       "array([1., 1., 1., 1., 0., 1., 1., 1., 0., 1., 1., 1., 0., 1., 1., 1.])"
      ]
     },
     "execution_count": 99,
     "metadata": {},
     "output_type": "execute_result"
    }
   ],
   "source": [
    "d4"
   ]
  },
  {
   "cell_type": "code",
   "execution_count": 100,
   "metadata": {},
   "outputs": [],
   "source": [
    "for i in range(1,len(d4)):\n",
    "    if i%N != 0:\n",
    "        d2[i] = 0"
   ]
  },
  {
   "cell_type": "code",
   "execution_count": 101,
   "metadata": {},
   "outputs": [
    {
     "data": {
      "text/plain": [
       "array([1., 0., 0., 0., 1., 0., 0., 0., 1., 0., 0., 0., 1., 0., 0., 0.])"
      ]
     },
     "execution_count": 101,
     "metadata": {},
     "output_type": "execute_result"
    }
   ],
   "source": [
    "d2"
   ]
  },
  {
   "cell_type": "code",
   "execution_count": null,
   "metadata": {},
   "outputs": [],
   "source": []
  }
 ],
 "metadata": {
  "kernelspec": {
   "display_name": "Python 2",
   "language": "python",
   "name": "python2"
  },
  "language_info": {
   "codemirror_mode": {
    "name": "ipython",
    "version": 2
   },
   "file_extension": ".py",
   "mimetype": "text/x-python",
   "name": "python",
   "nbconvert_exporter": "python",
   "pygments_lexer": "ipython2",
   "version": "2.7.15"
  }
 },
 "nbformat": 4,
 "nbformat_minor": 2
}
