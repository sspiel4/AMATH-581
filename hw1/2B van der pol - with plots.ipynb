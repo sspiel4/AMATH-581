{
 "cells": [
  {
   "cell_type": "code",
   "execution_count": 5,
   "metadata": {},
   "outputs": [],
   "source": [
    "import numpy as np\n",
    "import scipy\n",
    "from scipy import integrate\n",
    "from numpy import linalg as LA\n",
    "import matplotlib.pyplot as plt"
   ]
  },
  {
   "cell_type": "code",
   "execution_count": 42,
   "metadata": {},
   "outputs": [],
   "source": [
    "#establish a time range to compute the solution\n",
    "start = 0\n",
    "stop = 32\n",
    "delta_t = 0.5\n",
    "\n",
    "#determine number of points in time array\n",
    "t_pts = int(1 + ((stop - start) / delta_t))\n",
    "\n",
    "a_t = np.linspace(start, stop, t_pts)\n",
    "\n",
    "#initial values\n",
    "init = [np.sqrt(3), 1]\n",
    "\n",
    "#set up function\n",
    "def van_der_Pol(Y, t):\n",
    "    dydt = [Y[1], -e*(Y[0]**2 - 1)*Y[1]-Y[0]]\n",
    "    return dydt\n",
    "\n",
    "########################################################\n",
    "\n",
    "avg_step_45 = []\n",
    "tol_step_45 = []\n",
    "i=4\n",
    "\n",
    "for i in range(4, 11):\n",
    "\n",
    "    e = 1\n",
    "    \n",
    "    abserr = 10**(-(i-1))  #to minick ode15 \n",
    "    relerr = 10**(-i)  #to minick ode15\n",
    "\n",
    "    #matrix returned from solvr, initial conditions, time range.\n",
    "    asol, infodict = integrate.odeint(van_der_Pol, init, a_t, rtol=relerr, atol=abserr, full_output = True)\n",
    "    y1b = asol[:,0:1]\n",
    "    y2b = asol[:,1:2]\n",
    "    \n",
    "    #calculate average step size\n",
    "    hu = infodict['hu']\n",
    "    step_avg = np.mean(hu)\n",
    "    \n",
    "    #append average step size\n",
    "    tol_step_45.append(relerr)\n",
    "    avg_step_45.append(step_avg)\n",
    "    \n",
    "#calculate polyfit line\n",
    "slope, intercept = np.polyfit(np.log(tol_step_45),np.log(avg_step_45),1)\n",
    "A8=[]\n",
    "A8.append(slope)\n",
    "np.savetxt('A8.dat', A8)"
   ]
  },
  {
   "cell_type": "code",
   "execution_count": 45,
   "metadata": {},
   "outputs": [
    {
     "data": {
      "text/plain": [
       "[0.09862381417557811]"
      ]
     },
     "execution_count": 45,
     "metadata": {},
     "output_type": "execute_result"
    }
   ],
   "source": [
    "A8"
   ]
  },
  {
   "cell_type": "code",
   "execution_count": 44,
   "metadata": {},
   "outputs": [
    {
     "data": {
      "image/png": "[encoded data removed]",
      "text/plain": [
       "<Figure size 432x288 with 1 Axes>"
      ]
     },
     "metadata": {},
     "output_type": "display_data"
    }
   ],
   "source": [
    "#create figure object\n",
    "fig = plt.figure()\n",
    "\n",
    "#plot each set of y values with respect to time\n",
    "ax = fig.add_axes([0,0,1,1])\n",
    "\n",
    "#ax.plot(norm_list, delta_t_list, label = 'Order')\n",
    "ax.plot(tol_step_45, avg_step_45, label = 'Order')\n",
    "\n",
    "#title axis\n",
    "ax.set_xlabel('delta T')\n",
    "ax.set_ylabel('norm')\n",
    "ax.set_title('')\n",
    "ax.set_yscale('log', basey = np.e)\n",
    "ax.set_xscale('log', basex = np.e)\n",
    "\n",
    "#include legend\n",
    "plt.legend(bbox_to_anchor=(1.05, 1), loc=2, borderaxespad=0.)\n",
    "\n",
    "plt.show()"
   ]
  },
  {
   "cell_type": "code",
   "execution_count": null,
   "metadata": {},
   "outputs": [],
   "source": []
  }
 ],
 "metadata": {
  "kernelspec": {
   "display_name": "Python 2",
   "language": "python",
   "name": "python2"
  },
  "language_info": {
   "codemirror_mode": {
    "name": "ipython",
    "version": 2
   },
   "file_extension": ".py",
   "mimetype": "text/x-python",
   "name": "python",
   "nbconvert_exporter": "python",
   "pygments_lexer": "ipython2",
   "version": "2.7.15"
  }
 },
 "nbformat": 4,
 "nbformat_minor": 2
}
