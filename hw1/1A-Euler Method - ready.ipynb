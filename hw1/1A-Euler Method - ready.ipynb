{
 "cells": [
  {
   "cell_type": "code",
   "execution_count": 7,
   "metadata": {},
   "outputs": [],
   "source": [
    "from __future__ import division\n",
    "import numpy as np"
   ]
  },
  {
   "cell_type": "code",
   "execution_count": 28,
   "metadata": {},
   "outputs": [],
   "source": [
    "#define error list\n",
    "E = []\n",
    "#set initial power to 2\n",
    "p=2\n",
    "#y_0 initial condition\n",
    "y_0 = (np.pi / np.sqrt(2))\n",
    "#norm list var\n",
    "norm_list = []\n",
    "#delta_t list\n",
    "delta_t_list = []\n",
    "\n",
    "for p in range(2,9):\n",
    "    #define delta_T\n",
    "    delta_t = 2**-p\n",
    "    delta_t_list.append(delta_t)\n",
    "    \n",
    "    #define time interval\n",
    "    start = 0 \n",
    "    stop = 5\n",
    "\n",
    "    #determine number of points in time array\n",
    "    t_pts = int(1 + ((stop - start) / delta_t))\n",
    "    #create numpy array for time interval\n",
    "    t = np.linspace(start,stop,t_pts)\n",
    "\n",
    "    #initiate y array\n",
    "    y = []\n",
    "\n",
    "    #Euler Method Calculation\n",
    "    y.append(y_0)\n",
    "\n",
    "    #loop through and calculate y values with euler\n",
    "    for i in range(0,len(t)-1):\n",
    "        #calculate dy/dt\n",
    "        dydt = -3*y[i]*np.sin(t[i])\n",
    "        y.append(y[i]+delta_t*dydt)\n",
    "        \n",
    "    #Real function calculation\n",
    "    real = []\n",
    "    for i in range(0,len(t)):\n",
    "        real.append((np.pi*np.e**(3*(np.cos(t[i])-1))/ np.sqrt(2)))\n",
    "        \n",
    "        \n",
    "    #reset norm variable\n",
    "    E = 0\n",
    "    #loop through and calculate error\n",
    "    E = np.average(abs(real[i] - y[i]))\n",
    "    norm_list.append(E)\n",
    "    \n",
    "#solutions\n",
    "A1 = y\n",
    "np.savetxt('A1.dat', A1)\n",
    "A2 = norm_list\n",
    "#A2 = np.asarray(A2)\n",
    "#np.matrix.transpose(A2)\n",
    "A2 = np.c_[A2[0],A2[1],A2[2],A2[3],A2[4],A2[5],A2[6]]\n",
    "np.savetxt('A2.dat', A2)\n",
    "\n",
    "#calculate polyfit line\n",
    "slope, intercept = np.polyfit(np.log(delta_t_list),np.log(norm_list),1)\n",
    "A3=[]\n",
    "A3.append(slope)\n",
    "np.savetxt('A3.dat', A3)"
   ]
  },
  {
   "cell_type": "code",
   "execution_count": 29,
   "metadata": {},
   "outputs": [
    {
     "data": {
      "text/plain": [
       "array([[0.25614871, 0.21530993, 0.14803593, 0.08853512, 0.04870505,\n",
       "        0.02558638, 0.01311903]])"
      ]
     },
     "execution_count": 29,
     "metadata": {},
     "output_type": "execute_result"
    }
   ],
   "source": [
    "A2"
   ]
  },
  {
   "cell_type": "code",
   "execution_count": 19,
   "metadata": {},
   "outputs": [],
   "source": [
    "A2 = np.c_[A2[0],A2[1],A2[2],A2[3],A2[4],A2[5],A2[6]]"
   ]
  },
  {
   "cell_type": "code",
   "execution_count": 27,
   "metadata": {},
   "outputs": [
    {
     "data": {
      "text/plain": [
       "array([[0.25614871, 0.21530993, 0.14803593, 0.08853512, 0.04870505,\n",
       "        0.02558638, 0.01311903]])"
      ]
     },
     "execution_count": 27,
     "metadata": {},
     "output_type": "execute_result"
    }
   ],
   "source": [
    "A2"
   ]
  },
  {
   "cell_type": "code",
   "execution_count": 30,
   "metadata": {},
   "outputs": [
    {
     "data": {
      "text/plain": [
       "[0.736124442373108]"
      ]
     },
     "execution_count": 30,
     "metadata": {},
     "output_type": "execute_result"
    }
   ],
   "source": [
    "A3"
   ]
  },
  {
   "cell_type": "code",
   "execution_count": null,
   "metadata": {},
   "outputs": [],
   "source": []
  }
 ],
 "metadata": {
  "kernelspec": {
   "display_name": "Python 2",
   "language": "python",
   "name": "python2"
  },
  "language_info": {
   "codemirror_mode": {
    "name": "ipython",
    "version": 2
   },
   "file_extension": ".py",
   "mimetype": "text/x-python",
   "name": "python",
   "nbconvert_exporter": "python",
   "pygments_lexer": "ipython2",
   "version": "2.7.15"
  }
 },
 "nbformat": 4,
 "nbformat_minor": 2
}
