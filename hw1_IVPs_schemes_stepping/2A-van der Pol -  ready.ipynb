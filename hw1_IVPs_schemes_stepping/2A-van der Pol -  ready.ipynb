{
 "cells": [
  {
   "cell_type": "code",
   "execution_count": 2,
   "metadata": {},
   "outputs": [],
   "source": [
    "import numpy as np\n",
    "import scipy\n",
    "from scipy import integrate\n",
    "from numpy import linalg as LA"
   ]
  },
  {
   "cell_type": "markdown",
   "metadata": {},
   "source": [
    "### Part A"
   ]
  },
  {
   "cell_type": "code",
   "execution_count": 6,
   "metadata": {},
   "outputs": [],
   "source": [
    "#establish a time range to compute the solution\n",
    "start = 0\n",
    "stop = 32\n",
    "delta_t = 0.5\n",
    "\n",
    "#determine number of points in time array\n",
    "t_pts = int(1 + ((stop - start) / delta_t))\n",
    "\n",
    "a_t = np.linspace(start, stop, t_pts)\n",
    "\n",
    "#initial values\n",
    "init = [np.sqrt(3), 1]\n",
    "\n",
    "#set up function\n",
    "def van_der_Pol(Y, t):\n",
    "    return [Y[1], -e*(Y[0]**2 - 1)*Y[1]-Y[0]]\n",
    "\n",
    "#######################################################################################################################\n",
    "\n",
    "#set e =0.1\n",
    "e=0.1\n",
    "\n",
    "asol = integrate.odeint(van_der_Pol, init, a_t)\n",
    "y1a = asol[:,0:1]\n",
    "y2a = asol[:,1:2]\n",
    "       \n",
    "#######################################################################################################################\n",
    "\n",
    "#set e =1\n",
    "e=1\n",
    "\n",
    "#matrix returned from solvr, initial conditions, time range.\n",
    "asol = integrate.odeint(van_der_Pol, init, a_t)\n",
    "y1b = asol[:,0:1]\n",
    "y2b = asol[:,1:2]\n",
    "    \n",
    "#######################################################################################################################\n",
    "\n",
    "#set e=20\n",
    "e=20\n",
    "\n",
    "#matrix returned from solvr, initial conditions, time range.\n",
    "asol = integrate.odeint(van_der_Pol, init, a_t)\n",
    "y1c = asol[:,0:1]\n",
    "y2c = asol[:,1:2]\n",
    "\n",
    "A7 = np.c_[y1a, y1b, y1c]\n",
    "np.savetxt('A7.dat', A7)"
   ]
  },
  {
   "cell_type": "code",
   "execution_count": 7,
   "metadata": {},
   "outputs": [
    {
     "data": {
      "text/plain": [
       "65"
      ]
     },
     "execution_count": 7,
     "metadata": {},
     "output_type": "execute_result"
    }
   ],
   "source": [
    "len(A7)"
   ]
  },
  {
   "cell_type": "code",
   "execution_count": null,
   "metadata": {},
   "outputs": [],
   "source": []
  }
 ],
 "metadata": {
  "kernelspec": {
   "display_name": "Python 2",
   "language": "python",
   "name": "python2"
  },
  "language_info": {
   "codemirror_mode": {
    "name": "ipython",
    "version": 2
   },
   "file_extension": ".py",
   "mimetype": "text/x-python",
   "name": "python",
   "nbconvert_exporter": "python",
   "pygments_lexer": "ipython2",
   "version": "2.7.15"
  }
 },
 "nbformat": 4,
 "nbformat_minor": 2
}
