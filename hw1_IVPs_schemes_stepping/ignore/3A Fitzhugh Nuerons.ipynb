{
 "cells": [
  {
   "cell_type": "code",
   "execution_count": 2,
   "metadata": {},
   "outputs": [],
   "source": [
    "import numpy as np\n",
    "import scipy\n",
    "from scipy import integrate\n",
    "from numpy import linalg as LA\n",
    "import matplotlib.pyplot as plt"
   ]
  },
  {
   "cell_type": "markdown",
   "metadata": {},
   "source": [
    "### defining functions"
   ]
  },
  {
   "cell_type": "code",
   "execution_count": 3,
   "metadata": {},
   "outputs": [],
   "source": [
    "def coupled_fitzhugh(var, t, param):\n",
    "    '''\n",
    "    var : vector of variables\n",
    "        vars = [v1, w1, v2, w2]\n",
    "        \n",
    "    t : time\n",
    "        \n",
    "    param : vector of parameters\n",
    "        param = [a1, b1, c1, I1, d21, a2, b2, c2, I2, d12]\n",
    "    '''\n",
    "    \n",
    "    v1, w1, v2, w2 = var\n",
    "    a1, b1, c1, I1, d21, a2, b2, c2, I2, d12 = param\n",
    "    \n",
    "    dv1 = -v1**3+(1+a1)*v1**2-a1*v1-w1+I1+d12*v2\n",
    "    dw1 = b1*v1\n",
    "    \n",
    "    dv2 = -v2**3+(1+a2)*v2**2-a2*v2-w2+I2+d21*v1\n",
    "    dw2 = b2*v2\n",
    "    \n",
    "    return np.array([dv1,dw1,dv2,dw2])\n",
    "\n",
    "\n",
    "\n",
    "#define constants\n",
    "a1=0.05\n",
    "b1=0.01\n",
    "c1=0.01\n",
    "I1=0.1\n",
    "d12=0\n",
    "\n",
    "a2=0.25\n",
    "b2=0.01\n",
    "c2=0.01\n",
    "I2=0.1\n",
    "d21=0\n",
    "\n",
    "#define intit cond\n",
    "v1=2\n",
    "w1=0\n",
    "v2=2\n",
    "w2=0\n",
    "\n",
    "# ODE solver parameters\n",
    "abserr = 0.0025*1.0e-1  #to minick ode15 \n",
    "relerr = 0.0025*1.0e-5  #to minick ode15\n",
    "stoptime = 0.5\n",
    "numpoints = 201\n",
    "\n",
    "# Create the time samples for the output of the ODE solver.\n",
    "# I use a large number of points, only because I want to make\n",
    "# a plot of the solution that looks nice.\n",
    "t = [stoptime * float(i) / (numpoints - 1) for i in range(numpoints)]\n",
    "\n",
    "# Pack up the parameters and initial conditions:\n",
    "p = [a1, b1, c1, I1, d21, a2, b2, c2, I2, d12]\n",
    "w0 = [v1, w1, v2, w2]\n",
    "\n",
    "# Call the ODE solver.\n",
    "wsol = integrate.odeint(coupled_fitzhugh, w0, t, args=(p,),\n",
    "              atol=abserr, rtol=relerr)\n",
    "\n",
    "#write solution array\n",
    "A11 = np.c_[wsol[:,0:1],wsol[:,2:3],wsol[:,1:2],wsol[:,3:4]]\n",
    "np.savetxt('A11.dat', A11)"
   ]
  },
  {
   "cell_type": "markdown",
   "metadata": {},
   "source": [
    "### Seperate Runs"
   ]
  },
  {
   "cell_type": "code",
   "execution_count": 7,
   "metadata": {},
   "outputs": [
    {
     "ename": "TypeError",
     "evalue": "'float' object is not iterable",
     "output_type": "error",
     "traceback": [
      "\u001b[1;31m---------------------------------------------------------------------------\u001b[0m",
      "\u001b[1;31mTypeError\u001b[0m                                 Traceback (most recent call last)",
      "\u001b[1;32m<ipython-input-7-d28688b2f77d>\u001b[0m in \u001b[0;36m<module>\u001b[1;34m()\u001b[0m\n\u001b[0;32m      6\u001b[0m \u001b[1;32mfor\u001b[0m \u001b[0mi\u001b[0m \u001b[1;32min\u001b[0m \u001b[0mrange\u001b[0m\u001b[1;33m(\u001b[0m\u001b[1;36m1\u001b[0m\u001b[1;33m,\u001b[0m \u001b[0mlen\u001b[0m\u001b[1;33m(\u001b[0m\u001b[0mt\u001b[0m\u001b[1;33m)\u001b[0m\u001b[1;33m)\u001b[0m\u001b[1;33m:\u001b[0m\u001b[1;33m\u001b[0m\u001b[0m\n\u001b[0;32m      7\u001b[0m     \u001b[0mr1\u001b[0m\u001b[1;33m.\u001b[0m\u001b[0mset_f_params\u001b[0m\u001b[1;33m(\u001b[0m\u001b[0mp\u001b[0m\u001b[1;33m,\u001b[0m\u001b[1;33m)\u001b[0m\u001b[1;33m\u001b[0m\u001b[0m\n\u001b[1;32m----> 8\u001b[1;33m     \u001b[0my1\u001b[0m\u001b[1;33m[\u001b[0m\u001b[0mi\u001b[0m\u001b[1;33m,\u001b[0m \u001b[1;33m:\u001b[0m\u001b[1;33m]\u001b[0m \u001b[1;33m=\u001b[0m \u001b[0mr1\u001b[0m\u001b[1;33m.\u001b[0m\u001b[0mintegrate\u001b[0m\u001b[1;33m(\u001b[0m\u001b[0mt\u001b[0m\u001b[1;33m[\u001b[0m\u001b[0mi\u001b[0m\u001b[1;33m]\u001b[0m\u001b[1;33m)\u001b[0m    \u001b[1;31m# get one more value, add it to the array\u001b[0m\u001b[1;33m\u001b[0m\u001b[0m\n\u001b[0m\u001b[0;32m      9\u001b[0m     \u001b[1;32mif\u001b[0m \u001b[1;32mnot\u001b[0m \u001b[0mr1\u001b[0m\u001b[1;33m.\u001b[0m\u001b[0msuccessful\u001b[0m\u001b[1;33m(\u001b[0m\u001b[1;33m)\u001b[0m\u001b[1;33m:\u001b[0m\u001b[1;33m\u001b[0m\u001b[0m\n\u001b[0;32m     10\u001b[0m         \u001b[1;32mraise\u001b[0m \u001b[0mRuntimeError\u001b[0m\u001b[1;33m(\u001b[0m\u001b[1;34m\"Could not integrate\"\u001b[0m\u001b[1;33m)\u001b[0m\u001b[1;33m\u001b[0m\u001b[0m\n",
      "\u001b[1;32mC:\\Users\\sspie\\Anaconda2\\lib\\site-packages\\scipy\\integrate\\_ode.pyc\u001b[0m in \u001b[0;36mintegrate\u001b[1;34m(self, t, step, relax)\u001b[0m\n\u001b[0;32m    430\u001b[0m             self._y, self.t = mth(self.f, self.jac or (lambda: None),\n\u001b[0;32m    431\u001b[0m                                   \u001b[0mself\u001b[0m\u001b[1;33m.\u001b[0m\u001b[0m_y\u001b[0m\u001b[1;33m,\u001b[0m \u001b[0mself\u001b[0m\u001b[1;33m.\u001b[0m\u001b[0mt\u001b[0m\u001b[1;33m,\u001b[0m \u001b[0mt\u001b[0m\u001b[1;33m,\u001b[0m\u001b[1;33m\u001b[0m\u001b[0m\n\u001b[1;32m--> 432\u001b[1;33m                                   self.f_params, self.jac_params)\n\u001b[0m\u001b[0;32m    433\u001b[0m         \u001b[1;32mexcept\u001b[0m \u001b[0mSystemError\u001b[0m\u001b[1;33m:\u001b[0m\u001b[1;33m\u001b[0m\u001b[0m\n\u001b[0;32m    434\u001b[0m             \u001b[1;31m# f2py issue with tuple returns, see ticket 1187.\u001b[0m\u001b[1;33m\u001b[0m\u001b[1;33m\u001b[0m\u001b[0m\n",
      "\u001b[1;32mC:\\Users\\sspie\\Anaconda2\\lib\\site-packages\\scipy\\integrate\\_ode.pyc\u001b[0m in \u001b[0;36mrun\u001b[1;34m(self, f, jac, y0, t0, t1, f_params, jac_params)\u001b[0m\n\u001b[0;32m   1002\u001b[0m         args = ((f, jac, y0, t0, t1) + tuple(self.call_args) +\n\u001b[0;32m   1003\u001b[0m                 (f_params, jac_params))\n\u001b[1;32m-> 1004\u001b[1;33m         \u001b[0my1\u001b[0m\u001b[1;33m,\u001b[0m \u001b[0mt\u001b[0m\u001b[1;33m,\u001b[0m \u001b[0mistate\u001b[0m \u001b[1;33m=\u001b[0m \u001b[0mself\u001b[0m\u001b[1;33m.\u001b[0m\u001b[0mrunner\u001b[0m\u001b[1;33m(\u001b[0m\u001b[1;33m*\u001b[0m\u001b[0margs\u001b[0m\u001b[1;33m)\u001b[0m\u001b[1;33m\u001b[0m\u001b[0m\n\u001b[0m\u001b[0;32m   1005\u001b[0m         \u001b[0mself\u001b[0m\u001b[1;33m.\u001b[0m\u001b[0mistate\u001b[0m \u001b[1;33m=\u001b[0m \u001b[0mistate\u001b[0m\u001b[1;33m\u001b[0m\u001b[0m\n\u001b[0;32m   1006\u001b[0m         \u001b[1;32mif\u001b[0m \u001b[0mistate\u001b[0m \u001b[1;33m<\u001b[0m \u001b[1;36m0\u001b[0m\u001b[1;33m:\u001b[0m\u001b[1;33m\u001b[0m\u001b[0m\n",
      "\u001b[1;32m<ipython-input-3-cb5fd6c05948>\u001b[0m in \u001b[0;36mcoupled_fitzhugh\u001b[1;34m(var, t, param)\u001b[0m\n\u001b[0;32m     10\u001b[0m     '''\n\u001b[0;32m     11\u001b[0m \u001b[1;33m\u001b[0m\u001b[0m\n\u001b[1;32m---> 12\u001b[1;33m     \u001b[0mv1\u001b[0m\u001b[1;33m,\u001b[0m \u001b[0mw1\u001b[0m\u001b[1;33m,\u001b[0m \u001b[0mv2\u001b[0m\u001b[1;33m,\u001b[0m \u001b[0mw2\u001b[0m \u001b[1;33m=\u001b[0m \u001b[0mvar\u001b[0m\u001b[1;33m\u001b[0m\u001b[0m\n\u001b[0m\u001b[0;32m     13\u001b[0m     \u001b[0ma1\u001b[0m\u001b[1;33m,\u001b[0m \u001b[0mb1\u001b[0m\u001b[1;33m,\u001b[0m \u001b[0mc1\u001b[0m\u001b[1;33m,\u001b[0m \u001b[0mI1\u001b[0m\u001b[1;33m,\u001b[0m \u001b[0md21\u001b[0m\u001b[1;33m,\u001b[0m \u001b[0ma2\u001b[0m\u001b[1;33m,\u001b[0m \u001b[0mb2\u001b[0m\u001b[1;33m,\u001b[0m \u001b[0mc2\u001b[0m\u001b[1;33m,\u001b[0m \u001b[0mI2\u001b[0m\u001b[1;33m,\u001b[0m \u001b[0md12\u001b[0m \u001b[1;33m=\u001b[0m \u001b[0mparam\u001b[0m\u001b[1;33m\u001b[0m\u001b[0m\n\u001b[0;32m     14\u001b[0m \u001b[1;33m\u001b[0m\u001b[0m\n",
      "\u001b[1;31mTypeError\u001b[0m: 'float' object is not iterable"
     ]
    }
   ],
   "source": [
    "#set up f1\n",
    "r1 = integrate.ode(coupled_fitzhugh).set_integrator('vode', method='bdf', order=15)  # set integrator similiar to ODE45\n",
    "r1.set_initial_value(w0, t)     # initial values\n",
    "\n",
    "#integrator loop\n",
    "for i in range(1, len(t)):\n",
    "    r1.set_f_params(p,)\n",
    "    y1[i, :] = r1.integrate(t[i])    # get one more value, add it to the array\n",
    "    if not r1.successful():\n",
    "        raise RuntimeError(\"Could not integrate\")        \n",
    "\n",
    "p_1 = y1[:,0:1]\n",
    "v_1 = y1[:,1:2]"
   ]
  },
  {
   "cell_type": "markdown",
   "metadata": {},
   "source": [
    "### Coupled Run"
   ]
  },
  {
   "cell_type": "code",
   "execution_count": null,
   "metadata": {},
   "outputs": [],
   "source": [
    "#create figure object\n",
    "fig = plt.figure()\n",
    "\n",
    "#plot each set of y values with respect to time\n",
    "ax = fig.add_axes([0,0,1,1])\n",
    "\n",
    "ax.plot(t,p_1, label = 'Position')\n",
    "ax.plot(t,v_1, label = 'Velocity')\n",
    "\n",
    "#title axis\n",
    "ax.set_xlabel('t')\n",
    "ax.set_ylabel('x')\n",
    "ax.set_title('Excercise 4-1: Part A - No Forcing')\n",
    "\n",
    "#include legend\n",
    "plt.legend(bbox_to_anchor=(1.05, 1), loc=2, borderaxespad=0.)\n",
    "\n",
    "plt.show()"
   ]
  },
  {
   "cell_type": "code",
   "execution_count": 5,
   "metadata": {},
   "outputs": [
    {
     "ename": "NameError",
     "evalue": "name 'p_2' is not defined",
     "output_type": "error",
     "traceback": [
      "\u001b[1;31m---------------------------------------------------------------------------\u001b[0m",
      "\u001b[1;31mNameError\u001b[0m                                 Traceback (most recent call last)",
      "\u001b[1;32m<ipython-input-5-782874764225>\u001b[0m in \u001b[0;36m<module>\u001b[1;34m()\u001b[0m\n\u001b[0;32m      5\u001b[0m \u001b[0max\u001b[0m \u001b[1;33m=\u001b[0m \u001b[0mfig\u001b[0m\u001b[1;33m.\u001b[0m\u001b[0madd_axes\u001b[0m\u001b[1;33m(\u001b[0m\u001b[1;33m[\u001b[0m\u001b[1;36m0\u001b[0m\u001b[1;33m,\u001b[0m\u001b[1;36m0\u001b[0m\u001b[1;33m,\u001b[0m\u001b[1;36m1\u001b[0m\u001b[1;33m,\u001b[0m\u001b[1;36m1\u001b[0m\u001b[1;33m]\u001b[0m\u001b[1;33m)\u001b[0m\u001b[1;33m\u001b[0m\u001b[0m\n\u001b[0;32m      6\u001b[0m \u001b[1;33m\u001b[0m\u001b[0m\n\u001b[1;32m----> 7\u001b[1;33m \u001b[0max\u001b[0m\u001b[1;33m.\u001b[0m\u001b[0mplot\u001b[0m\u001b[1;33m(\u001b[0m\u001b[0mt\u001b[0m\u001b[1;33m,\u001b[0m\u001b[0mp_2\u001b[0m\u001b[1;33m,\u001b[0m \u001b[0mlabel\u001b[0m \u001b[1;33m=\u001b[0m \u001b[1;34m'Position'\u001b[0m\u001b[1;33m)\u001b[0m\u001b[1;33m\u001b[0m\u001b[0m\n\u001b[0m\u001b[0;32m      8\u001b[0m \u001b[0max\u001b[0m\u001b[1;33m.\u001b[0m\u001b[0mplot\u001b[0m\u001b[1;33m(\u001b[0m\u001b[0mt\u001b[0m\u001b[1;33m,\u001b[0m\u001b[0mv_2\u001b[0m\u001b[1;33m,\u001b[0m \u001b[0mlabel\u001b[0m \u001b[1;33m=\u001b[0m \u001b[1;34m'Velocity'\u001b[0m\u001b[1;33m)\u001b[0m\u001b[1;33m\u001b[0m\u001b[0m\n\u001b[0;32m      9\u001b[0m \u001b[1;33m\u001b[0m\u001b[0m\n",
      "\u001b[1;31mNameError\u001b[0m: name 'p_2' is not defined"
     ]
    },
    {
     "data": {
      "image/png": "[encoded data removed]",
      "text/plain": [
       "<Figure size 432x288 with 1 Axes>"
      ]
     },
     "metadata": {},
     "output_type": "display_data"
    }
   ],
   "source": [
    "#create figure object\n",
    "fig = plt.figure()\n",
    "\n",
    "#plot each set of y values with respect to time\n",
    "ax = fig.add_axes([0,0,1,1])\n",
    "\n",
    "ax.plot(t,p_2, label = 'Position')\n",
    "ax.plot(t,v_2, label = 'Velocity')\n",
    "\n",
    "#title axis\n",
    "ax.set_xlabel('t')\n",
    "ax.set_ylabel('x')\n",
    "ax.set_title('Excercise 4-1: Part A - No Forcing')\n",
    "\n",
    "#include legend\n",
    "plt.legend(bbox_to_anchor=(1.05, 1), loc=2, borderaxespad=0.)\n",
    "\n",
    "plt.show()"
   ]
  },
  {
   "cell_type": "code",
   "execution_count": null,
   "metadata": {},
   "outputs": [],
   "source": []
  },
  {
   "cell_type": "code",
   "execution_count": null,
   "metadata": {},
   "outputs": [],
   "source": []
  },
  {
   "cell_type": "code",
   "execution_count": null,
   "metadata": {},
   "outputs": [],
   "source": []
  },
  {
   "cell_type": "code",
   "execution_count": null,
   "metadata": {},
   "outputs": [],
   "source": []
  },
  {
   "cell_type": "code",
   "execution_count": null,
   "metadata": {},
   "outputs": [],
   "source": []
  },
  {
   "cell_type": "code",
   "execution_count": null,
   "metadata": {},
   "outputs": [],
   "source": []
  },
  {
   "cell_type": "code",
   "execution_count": null,
   "metadata": {},
   "outputs": [],
   "source": []
  }
 ],
 "metadata": {
  "kernelspec": {
   "display_name": "Python 2",
   "language": "python",
   "name": "python2"
  },
  "language_info": {
   "codemirror_mode": {
    "name": "ipython",
    "version": 2
   },
   "file_extension": ".py",
   "mimetype": "text/x-python",
   "name": "python",
   "nbconvert_exporter": "python",
   "pygments_lexer": "ipython2",
   "version": "2.7.15"
  }
 },
 "nbformat": 4,
 "nbformat_minor": 2
}
