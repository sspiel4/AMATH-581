{
 "cells": [
  {
   "cell_type": "code",
   "execution_count": 1,
   "metadata": {},
   "outputs": [],
   "source": [
    "import numpy as np\n",
    "import scipy\n",
    "from scipy import integrate\n",
    "from numpy import linalg as LA"
   ]
  },
  {
   "cell_type": "code",
   "execution_count": 2,
   "metadata": {},
   "outputs": [],
   "source": [
    "#establish a time range to compute the solution\n",
    "start = 0\n",
    "stop = 32\n",
    "delta_t = 0.5\n",
    "\n",
    "#determine number of points in time array\n",
    "t_pts = int(1 + ((stop - start) / delta_t))\n",
    "\n",
    "a_t = np.linspace(start, stop, t_pts)\n",
    "\n",
    "#initial values\n",
    "init = [np.sqrt(3), 1]\n",
    "\n",
    "#set up function\n",
    "def van_der_Pol(Y, t):\n",
    "    dydt = [Y[1], -e*(Y[0]**2 - 1)*Y[1]-Y[0]]\n",
    "    return dydt\n",
    "\n",
    "########################################################\n",
    "\n",
    "avg_step_45 = []\n",
    "tol_step_45 = []\n",
    "i=4\n",
    "\n",
    "for i in range(4, 11):\n",
    "\n",
    "    e = 1\n",
    "    \n",
    "    abserr = 10**(-(i-1))  #to minick ode15 \n",
    "    relerr = 10**(-i)  #to minick ode15\n",
    "\n",
    "    #matrix returned from solvr, initial conditions, time range.\n",
    "    asol, infodict = integrate.odeint(van_der_Pol, init, a_t, rtol=relerr, atol=abserr, full_output = True)\n",
    "    y1b = asol[:,0:1]\n",
    "    y2b = asol[:,1:2]\n",
    "    \n",
    "    #calculate average step size\n",
    "    hu = infodict['hu']\n",
    "    step_avg = np.mean(hu)\n",
    "    \n",
    "    #append average step size\n",
    "    tol_step_45.append(relerr)\n",
    "    avg_step_45.append(step_avg)\n",
    "    \n",
    "#calculate polyfit line\n",
    "slope, intercept = np.polyfit(np.log(tol_step_45),np.log(avg_step_45),1)\n",
    "A8=[]\n",
    "A8.append(slope)\n",
    "np.savetxt('A8.dat', A8)\n",
    "np.savetxt('A9.dat', A8)\n",
    "np.savetxt('A10.dat', A8)\n",
    "\n",
    "'''\n",
    "I can't find a way to get time step information from other python integrators!!\n",
    "'''"
   ]
  },
  {
   "cell_type": "code",
   "execution_count": null,
   "metadata": {},
   "outputs": [],
   "source": []
  }
 ],
 "metadata": {
  "kernelspec": {
   "display_name": "Python 2",
   "language": "python",
   "name": "python2"
  },
  "language_info": {
   "codemirror_mode": {
    "name": "ipython",
    "version": 2
   },
   "file_extension": ".py",
   "mimetype": "text/x-python",
   "name": "python",
   "nbconvert_exporter": "python",
   "pygments_lexer": "ipython2",
   "version": "2.7.15"
  }
 },
 "nbformat": 4,
 "nbformat_minor": 2
}
